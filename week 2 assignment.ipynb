{
 "cells": [
  {
   "cell_type": "code",
   "execution_count": null,
   "id": "210572ea-f48c-489f-9823-d254aad15a90",
   "metadata": {},
   "outputs": [],
   "source": [
    "Question -1 "
   ]
  },
  {
   "cell_type": "code",
   "execution_count": null,
   "id": "358ba01a-60ff-41cc-ad83-6d08eda121e4",
   "metadata": {},
   "outputs": [],
   "source": [
    "we can comment a code in python by simply using (#)hash symbol"
   ]
  },
  {
   "cell_type": "code",
   "execution_count": null,
   "id": "f60f14a0-c37b-45e0-a07c-130be9d024d2",
   "metadata": {},
   "outputs": [],
   "source": [
    "there are two different types of comment -\n",
    "1. Line comment\n",
    "2. Block comment"
   ]
  },
  {
   "cell_type": "code",
   "execution_count": null,
   "id": "ba939b0e-755c-4254-9efd-0e960cf147a2",
   "metadata": {},
   "outputs": [],
   "source": [
    "Question -2"
   ]
  },
  {
   "cell_type": "code",
   "execution_count": null,
   "id": "f2fa12cf-c32c-47d6-b80f-9eb2a6e1b2c6",
   "metadata": {},
   "outputs": [],
   "source": [
    "variables are the representation which are help to store the data of different data sets according to their data set. "
   ]
  },
  {
   "cell_type": "code",
   "execution_count": null,
   "id": "1e6f2a3f-968e-48b5-b6d2-27eb777c6139",
   "metadata": {},
   "outputs": [],
   "source": [
    "python has no command to declare a variable and we use (=)equal to symbol assign a value to a variable."
   ]
  },
  {
   "cell_type": "code",
   "execution_count": null,
   "id": "64372a44-3c58-4b48-9b01-734ce94922f4",
   "metadata": {},
   "outputs": [],
   "source": [
    "Question -3"
   ]
  },
  {
   "cell_type": "code",
   "execution_count": null,
   "id": "b02cff87-fff6-46ca-95a9-38b185d6ce18",
   "metadata": {},
   "outputs": [],
   "source": [
    "we can convert one type to another in python by using type casting function "
   ]
  },
  {
   "cell_type": "code",
   "execution_count": null,
   "id": "d4b9d6a4-f933-4f77-9202-8e831fffafec",
   "metadata": {},
   "outputs": [],
   "source": [
    "Question -4"
   ]
  },
  {
   "cell_type": "code",
   "execution_count": null,
   "id": "16ec688f-e8ce-4337-8e00-c0d14d1abb14",
   "metadata": {},
   "outputs": [],
   "source": [
    "we execute a Python script from the command line by implementing Scripting.\n"
   ]
  },
  {
   "cell_type": "code",
   "execution_count": null,
   "id": "cdc984bb-3463-46fc-b5db-8764dadd96e3",
   "metadata": {},
   "outputs": [],
   "source": [
    "Question -5"
   ]
  },
  {
   "cell_type": "code",
   "execution_count": 3,
   "id": "cca16bdf-9329-4b26-b7d5-8a8e7e697e93",
   "metadata": {},
   "outputs": [
    {
     "data": {
      "text/plain": [
       "[2, 3]"
      ]
     },
     "execution_count": 3,
     "metadata": {},
     "output_type": "execute_result"
    }
   ],
   "source": [
    "my_list=[1,2,3,4,5]\n",
    "(my_list[1:3])"
   ]
  },
  {
   "cell_type": "code",
   "execution_count": null,
   "id": "dcacb839-247c-4c08-a52f-371dc182006c",
   "metadata": {},
   "outputs": [],
   "source": [
    "Question -6"
   ]
  },
  {
   "cell_type": "code",
   "execution_count": null,
   "id": "77030eb7-514e-41b0-a424-a932bbf7fe7d",
   "metadata": {},
   "outputs": [],
   "source": [
    "complex no are no that are expressed in the form of a+ib where a and b are real no and i is imaginary no ."
   ]
  },
  {
   "cell_type": "code",
   "execution_count": null,
   "id": "fb14b8ae-e40c-4f36-91f8-ea1c82c7cfc1",
   "metadata": {},
   "outputs": [],
   "source": [
    "it is represent in python by simply using the function complex."
   ]
  },
  {
   "cell_type": "code",
   "execution_count": null,
   "id": "c23495b3-21f0-4b6e-b5bc-960152038e7c",
   "metadata": {},
   "outputs": [],
   "source": [
    "Question -7"
   ]
  },
  {
   "cell_type": "code",
   "execution_count": null,
   "id": "7c21bbab-0f87-4107-88c3-3286283ccb2a",
   "metadata": {},
   "outputs": [],
   "source": [
    "corret way to declare a variable is :\n",
    "age = 25"
   ]
  },
  {
   "cell_type": "code",
   "execution_count": null,
   "id": "68b0edc2-d38e-4f4a-a8e7-d935221757d1",
   "metadata": {},
   "outputs": [],
   "source": [
    "Question -8"
   ]
  },
  {
   "cell_type": "code",
   "execution_count": 1,
   "id": "27f409c8-ee83-48d9-83de-c638214de48c",
   "metadata": {},
   "outputs": [
    {
     "data": {
      "text/plain": [
       "float"
      ]
     },
     "execution_count": 1,
     "metadata": {},
     "output_type": "execute_result"
    }
   ],
   "source": [
    "price=9.99\n",
    "type(price)"
   ]
  },
  {
   "cell_type": "code",
   "execution_count": null,
   "id": "750daab8-56ea-4bd0-90b1-5ee7678eb5e1",
   "metadata": {},
   "outputs": [],
   "source": [
    "Question -9"
   ]
  },
  {
   "cell_type": "code",
   "execution_count": 2,
   "id": "3a81af86-7f09-4cda-8fd6-081e9984b493",
   "metadata": {},
   "outputs": [
    {
     "name": "stdout",
     "output_type": "stream",
     "text": [
      "supratim bajpai\n"
     ]
    }
   ],
   "source": [
    "name=\"supratim bajpai\"\n",
    "print(name)"
   ]
  },
  {
   "cell_type": "code",
   "execution_count": null,
   "id": "d36ae845-25f0-4cf6-a46f-acdc7a3e4c97",
   "metadata": {},
   "outputs": [],
   "source": [
    "Question 10"
   ]
  },
  {
   "cell_type": "code",
   "execution_count": 6,
   "id": "2a2340f9-26f3-4d89-9276-a5189f50be1b",
   "metadata": {},
   "outputs": [
    {
     "data": {
      "text/plain": [
       "' world'"
      ]
     },
     "execution_count": 6,
     "metadata": {},
     "output_type": "execute_result"
    }
   ],
   "source": [
    "string=\"hello world\"\n",
    "string[5:11]"
   ]
  },
  {
   "cell_type": "code",
   "execution_count": null,
   "id": "d6bd8447-53f2-4b12-b3a9-dd58ab93a495",
   "metadata": {},
   "outputs": [],
   "source": [
    "Question 11"
   ]
  },
  {
   "cell_type": "code",
   "execution_count": null,
   "id": "21c5b4a0-7ac8-4869-9fa3-608bbdefbd7f",
   "metadata": {},
   "outputs": [],
   "source": []
  },
  {
   "cell_type": "code",
   "execution_count": null,
   "id": "7563d316-d343-4f79-8ca2-7ab0b82f618e",
   "metadata": {},
   "outputs": [],
   "source": []
  },
  {
   "cell_type": "code",
   "execution_count": null,
   "id": "08b82abc-f14a-4db4-9429-16de3b0307d2",
   "metadata": {},
   "outputs": [],
   "source": []
  },
  {
   "cell_type": "code",
   "execution_count": null,
   "id": "8496b6bf-83a0-49b1-9375-f4911cf32868",
   "metadata": {},
   "outputs": [],
   "source": []
  },
  {
   "cell_type": "code",
   "execution_count": null,
   "id": "fc2a2805-50a6-4f7d-99f4-0f401f550e96",
   "metadata": {},
   "outputs": [],
   "source": []
  },
  {
   "cell_type": "code",
   "execution_count": null,
   "id": "f05a64fc-d634-4107-8edd-e89ca61d2428",
   "metadata": {},
   "outputs": [],
   "source": []
  }
 ],
 "metadata": {
  "kernelspec": {
   "display_name": "Python 3 (ipykernel)",
   "language": "python",
   "name": "python3"
  },
  "language_info": {
   "codemirror_mode": {
    "name": "ipython",
    "version": 3
   },
   "file_extension": ".py",
   "mimetype": "text/x-python",
   "name": "python",
   "nbconvert_exporter": "python",
   "pygments_lexer": "ipython3",
   "version": "3.10.8"
  }
 },
 "nbformat": 4,
 "nbformat_minor": 5
}
